{
 "cells": [
  {
   "cell_type": "markdown",
   "metadata": {},
   "source": [
    "Q1. What are the three measures of central tendency?\n",
    "\n",
    "Ans:\n",
    "\n",
    "1. Mean\n",
    "2. Median\n",
    "3. Mode"
   ]
  },
  {
   "cell_type": "markdown",
   "metadata": {},
   "source": [
    "Q2. What is the difference between the mean, median, and mode? How are they used to measure the\n",
    "central tendency of a dataset?\n",
    "\n",
    "Ans:\n",
    "The mean is the sum of all values divided by the number of values and is sensitive to outliers. The median is the middle value in a sorted list of numbers and is not influenced by outliers. The mode is the most frequently occurring value in the dataset and can be used for both numerical and categorical data. Depending on the nature of the data and the presence of outliers, different measures of central tendency may be more appropriate to use.\n"
   ]
  },
  {
   "cell_type": "markdown",
   "metadata": {},
   "source": [
    "Q3. Measure the three measures of central tendency for the given height data:\n",
    "[178,177,176,177,178.2,178,175,179,180,175,178.9,176.2,177,172.5,178,176.5]"
   ]
  },
  {
   "cell_type": "code",
   "execution_count": 13,
   "metadata": {},
   "outputs": [
    {
     "name": "stdout",
     "output_type": "stream",
     "text": [
      "Mean: 177.01875,\n",
      "Median: 177.0,\n",
      "Mode: 177.0\n"
     ]
    }
   ],
   "source": [
    "import numpy as np \n",
    "from scipy import stats\n",
    "height = np.array([178,177,176,177,178.2,178,175,179,180,175,178.9,176.2,177,172.5,178,176.5])\n",
    "\n",
    "mean = np.mean(height)\n",
    "median = np.median(height)\n",
    "mode = stats.mode(height)\n",
    "\n",
    "print(f\"Mean: {mean},\\nMedian: {median},\\nMode: {mode.mode}\")"
   ]
  },
  {
   "cell_type": "markdown",
   "metadata": {},
   "source": [
    "Q5. How are measures of dispersion such as range, variance, and standard deviation used to describe\n",
    "the spread of a dataset? Provide an example.\n",
    "\n",
    "Ans:\n",
    "\n",
    "Consider a dataset representing the daily temperatures (in degrees Celsius) in a city over the past week:\n",
    "\n",
    "{20,21,22,23,24,25,26}\n",
    "\n",
    "Range: The range is 26−20=6.\n",
    "\n",
    "Variance: First, calculate the mean:\n",
    "Mean (20+21+22+23+24+25+26) / 7 = 23\n",
    "\n",
    "Then, calculate the variance:\n",
    "Variance\n",
    "(20−23) **2 +(21−23) **2 +(22−23) **2 +(23−23) **2 +(24−23) **2 +(25−23) **2 +(26−23) **2\n",
    "\n",
    "9+4+1+0+1+4+9 = 28 / 7 = 4\n",
    "\n",
    "Standard Deviation: The standard deviation is the square root of the variance, so \n",
    "Standard Deviation =2 degrees Celsius.\n",
    "\n",
    "In this example, the range indicates a spread of 6 degrees Celsius, while the standard deviation gives a more precise measure of dispersion, showing that temperatures typically vary around the mean by approximately 2 degrees Celsius."
   ]
  },
  {
   "cell_type": "markdown",
   "metadata": {},
   "source": [
    "Q6. What is a Venn diagram?\n",
    "\n",
    "Ans:\n",
    "\n",
    "A Venn diagram is a visual representation of the relationships between different sets or groups of items. It consists of overlapping circles, each representing a set, and the areas where the circles overlap represent the intersections between those sets. "
   ]
  },
  {
   "cell_type": "markdown",
   "metadata": {},
   "source": [
    "Q7. For the two given sets A = (2,3,4,5,6,7) & B = (0,2,6,8,10). Find:\n",
    "\n",
    "1. A n B\n",
    "2. A ⋃ B"
   ]
  },
  {
   "cell_type": "code",
   "execution_count": 14,
   "metadata": {},
   "outputs": [
    {
     "name": "stdout",
     "output_type": "stream",
     "text": [
      "A n B: {2, 6},\n",
      "A U B: {0, 2, 3, 4, 5, 6, 7, 8, 10}\n"
     ]
    }
   ],
   "source": [
    "A = {2,3,4,5,6,7}\n",
    "\n",
    "B = {0,2,6,8,10}\n",
    "\n",
    "# A intersection B\n",
    "\n",
    "result1 = A.intersection(B)\n",
    "result2 = A.union(B)\n",
    "\n",
    "print(f'A n B: {result1},\\nA U B: {result2}')"
   ]
  },
  {
   "cell_type": "markdown",
   "metadata": {},
   "source": [
    "Q8. What do you understand about skewness in data?\n",
    "\n",
    "Ans:\n",
    "\n",
    "The skewness shows how the data is distributed and what measures of central tendency will best be used to describe it's spread."
   ]
  },
  {
   "cell_type": "markdown",
   "metadata": {},
   "source": [
    "Q9. If a data is right skewed then what will be the position of median with respect to mean?\n",
    "\n",
    "Ans:\n",
    "\n",
    "The Mean is greater than the Median.\n",
    "The Median is in between the Mean and Mode."
   ]
  },
  {
   "cell_type": "markdown",
   "metadata": {},
   "source": [
    "Q10. Explain the difference between covariance and correlation. How are these measures used in\n",
    "statistical analysis?\n",
    "\n",
    "Ans: \n",
    "\n",
    "Both Covariance and Correlation measures the relationship between features/ variables.\n",
    "\n",
    "The main difference is that the Covariance does not have a specified limit - Therefore the magnitude of the relationship, either positive or negative cannot be ascertained.\n",
    "\n",
    "Rather the Correlation has a limit, therefore the magnitude of the relationship, either positive or negative cannot be ascertained.\n"
   ]
  },
  {
   "cell_type": "markdown",
   "metadata": {},
   "source": [
    "Q11. What is the formula for calculating the sample mean? Provide an example calculation for a\n",
    "dataset.\n",
    "\n",
    "Ans: \n",
    "\n",
    "\n",
    "The formula for calculating the sample mean (also known as the arithmetic mean) is:\n",
    "\n",
    "Sample Mean = Sum of all data points / Number of data points\n",
    "\n",
    "Let's say we have the following dataset:\n",
    "Dataset={5,8,12,15,20}\n",
    "\n",
    "To calculate the sample mean:\n",
    "\n",
    "Sample Mean= (5+8+12+15+20) / 5\n",
    "​\n",
    "\n",
    "Sample Mean= 12"
   ]
  },
  {
   "cell_type": "markdown",
   "metadata": {},
   "source": [
    "Q12. For a normal distribution data what is the relationship between its measure of central tendency?\n",
    "\n",
    "Ans:\n",
    "\n",
    "Mean, Median and Mode -----> All are perfectly at the center.   (No outliers)"
   ]
  },
  {
   "cell_type": "markdown",
   "metadata": {},
   "source": [
    "Q13. How is covariance different from correlation?\n",
    "\n",
    "Ans: \n",
    "\n",
    "The main difference is that the Covariance does not have a specified limit - Therefore the magnitude of the relationship, either positive or negative cannot be ascertained.\n",
    "\n",
    "Rather the Correlation has a limit, therefore the magnitude of the relationship, either positive or negative cannot be ascertained."
   ]
  },
  {
   "cell_type": "markdown",
   "metadata": {},
   "source": [
    "Q14. How do outliers affect measures of central tendency and dispersion? Provide an example.\n",
    "\n",
    "Ans:\n",
    "\n",
    "Outliers Most Affects the Mean - Because it overshoots the size of the dataset.\n",
    "\n",
    "Example :\n",
    "\n",
    "If we have an Height data of certain range, without an outlier the mean, median and mode are mostly similar,\n",
    "\n",
    "But with an outlier there will be a difference. Most Times Only the mean has a drastic change."
   ]
  },
  {
   "cell_type": "code",
   "execution_count": 15,
   "metadata": {},
   "outputs": [
    {
     "name": "stdout",
     "output_type": "stream",
     "text": [
      "Without Outliers:\n",
      "Mean: 177.01875,\n",
      "Median: 177.0,\n",
      "Mode: 177.0\n",
      "\n",
      "With Outliers:\n",
      "Mean: 284.2529411764706,\n",
      "Median: 177.0,\n",
      "Mode: 177.0\n"
     ]
    }
   ],
   "source": [
    "import numpy as np \n",
    "from scipy import stats\n",
    "height = np.array([178,177,176,177,178.2,178,175,179,180,175,178.9,176.2,177,172.5,178,176.5])\n",
    "\n",
    "mean = np.mean(height)\n",
    "median = np.median(height)\n",
    "mode = stats.mode(height)\n",
    "\n",
    "print ('Without Outliers:')\n",
    "\n",
    "print(f\"Mean: {mean},\\nMedian: {median},\\nMode: {mode.mode}\")\n",
    "\n",
    "print()\n",
    "\n",
    "height = np.array([178,177,176,177,178.2,178,175,179,180,175,178.9,176.2,177,172.5,178,176.5, 2000])\n",
    "\n",
    "mean = np.mean(height)\n",
    "median = np.median(height)\n",
    "mode = stats.mode(height)\n",
    "\n",
    "print ('With Outliers:')\n",
    "\n",
    "print(f\"Mean: {mean},\\nMedian: {median},\\nMode: {mode.mode}\")"
   ]
  },
  {
   "cell_type": "code",
   "execution_count": null,
   "metadata": {},
   "outputs": [],
   "source": []
  }
 ],
 "metadata": {
  "kernelspec": {
   "display_name": "Python 3",
   "language": "python",
   "name": "python3"
  },
  "language_info": {
   "codemirror_mode": {
    "name": "ipython",
    "version": 3
   },
   "file_extension": ".py",
   "mimetype": "text/x-python",
   "name": "python",
   "nbconvert_exporter": "python",
   "pygments_lexer": "ipython3",
   "version": "3.11.8"
  }
 },
 "nbformat": 4,
 "nbformat_minor": 2
}
